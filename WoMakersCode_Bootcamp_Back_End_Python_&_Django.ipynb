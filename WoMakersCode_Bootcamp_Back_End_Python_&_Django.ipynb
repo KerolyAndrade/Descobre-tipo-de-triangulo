{
  "nbformat": 4,
  "nbformat_minor": 0,
  "metadata": {
    "colab": {
      "provenance": [],
      "include_colab_link": true
    },
    "kernelspec": {
      "name": "python3",
      "display_name": "Python 3"
    },
    "language_info": {
      "name": "python"
    }
  },
  "cells": [
    {
      "cell_type": "markdown",
      "metadata": {
        "id": "view-in-github",
        "colab_type": "text"
      },
      "source": [
        "<a href=\"https://colab.research.google.com/github/KerolyAndrade/Descobre-tipo-de-triangulo/blob/main/WoMakersCode_Bootcamp_Back_End_Python_%26_Django.ipynb\" target=\"_parent\"><img src=\"https://colab.research.google.com/assets/colab-badge.svg\" alt=\"Open In Colab\"/></a>"
      ]
    },
    {
      "cell_type": "markdown",
      "source": [
        "DESAFIO 1\n",
        "\n",
        "Crie um programa que solicita ao usuário que insira três notas (valores de 0 a 10) e, em seguida, calcule e exiba a média dessas notas.\n",
        "\n",
        "Além disso, informe ao usuário se ele foi aprovado ou reprovado com base na média das notas, considerando a média mínima de aprovação como 6."
      ],
      "metadata": {
        "id": "sdBUCCdzeef3"
      }
    },
    {
      "cell_type": "code",
      "source": [
        "def calcular_media(nota1, nota2, nota3):\n",
        "    return (nota1 + nota2 + nota3) / 3\n",
        "\n",
        "def verificar_aprovacao(media):\n",
        "    if media >= 6:\n",
        "        return \"Aprovado\"\n",
        "    else:\n",
        "        return \"Reprovado\"\n",
        "\n",
        "def main():\n",
        "    print(\"Digite as três notas (valores de 0 a 10):\")\n",
        "    nota1 = float(input(\"Nota 1: \"))\n",
        "    nota2 = float(input(\"Nota 2: \"))\n",
        "    nota3 = float(input(\"Nota 3: \"))\n",
        "\n",
        "    media = calcular_media(nota1, nota2, nota3)\n",
        "    situacao = verificar_aprovacao(media)\n",
        "\n",
        "    print(\"Média:\", media)\n",
        "    print(\"Situação:\", situacao)\n",
        "\n",
        "if __name__ == \"__main__\":\n",
        "    main()\n"
      ],
      "metadata": {
        "colab": {
          "base_uri": "https://localhost:8080/"
        },
        "id": "ZxqflLRZsrsT",
        "outputId": "4932162d-ccb3-4c9b-e31a-8732a7cd4cd4"
      },
      "execution_count": 1,
      "outputs": [
        {
          "output_type": "stream",
          "name": "stdout",
          "text": [
            "Digite as três notas (valores de 0 a 10):\n",
            "Nota 1: 10\n",
            "Nota 2: 10\n",
            "Nota 3: 10\n",
            "Média: 10.0\n",
            "Situação: Aprovado\n"
          ]
        }
      ]
    },
    {
      "cell_type": "markdown",
      "source": [
        "DESAFIO 2\n",
        "\n",
        "Crie um programa que solicita ao usuário que insira um número inteiro e, em seguida, verifica se o número é par ou ímpar.\n",
        "\n",
        "O programa deve exibir uma mensagem indicando se o número é par ou ímpar."
      ],
      "metadata": {
        "id": "ClKDF5t4gEyu"
      }
    },
    {
      "cell_type": "code",
      "source": [
        "def verificar_par_ou_impar(numero):\n",
        "    if numero % 2 == 0:\n",
        "        return \"par\"\n",
        "    else:\n",
        "        return \"ímpar\"\n",
        "\n",
        "def main():\n",
        "    numero = int(input(\"Digite um número inteiro: \"))\n",
        "\n",
        "    resultado = verificar_par_ou_impar(numero)\n",
        "\n",
        "    print(\"O número\", numero, \"é\", resultado + \".\")\n",
        "\n",
        "if __name__ == \"__main__\":\n",
        "    main()\n"
      ],
      "metadata": {
        "id": "GWkFk92kfuiO",
        "colab": {
          "base_uri": "https://localhost:8080/"
        },
        "outputId": "8504f00b-674e-426b-80fe-4fc412669104"
      },
      "execution_count": 4,
      "outputs": [
        {
          "output_type": "stream",
          "name": "stdout",
          "text": [
            "Digite um número inteiro: 3\n",
            "O número 3 é ímpar.\n"
          ]
        }
      ]
    },
    {
      "cell_type": "markdown",
      "source": [
        "DESAFIO 3\n",
        "\n",
        "Crie um programa que verifica se uma palavra fornecida pelo usuário é um palíndromo ou não.\n",
        "\n",
        "(Um palíndromo é uma palavra que é lida da mesma forma tanto da esquerda para a direita quanto da direita para a esquerda.)"
      ],
      "metadata": {
        "id": "MmsZIAj-e0NX"
      }
    },
    {
      "cell_type": "code",
      "source": [
        "def verificar_palindromo(palavra):\n",
        "    # Converte a palavra para minúsculas para garantir a comparação correta\n",
        "    palavra = palavra.lower()\n",
        "    # Remove espaços em branco da palavra\n",
        "    palavra = palavra.replace(\" \", \"\")\n",
        "    # Verifica se a palavra é igual à sua inversa\n",
        "    if palavra == palavra[::-1]:\n",
        "        return True\n",
        "    else:\n",
        "        return False\n",
        "\n",
        "def main():\n",
        "    palavra = input(\"Digite uma palavra: \")\n",
        "\n",
        "    if verificar_palindromo(palavra):\n",
        "        print(\"A palavra\", palavra, \"é um palíndromo.\")\n",
        "    else:\n",
        "        print(\"A palavra\", palavra, \"não é um palíndromo.\")\n",
        "\n",
        "if __name__ == \"__main__\":\n",
        "    main()\n"
      ],
      "metadata": {
        "id": "PobFqQqafLNj"
      },
      "execution_count": null,
      "outputs": []
    },
    {
      "cell_type": "markdown",
      "source": [
        "DESAFIO 4\n",
        "\n",
        "Crie um programa que solicita ao usuário que insira um número inteiro positivo e, em seguida, calcula e exibe o fatorial desse número.\n",
        "\n",
        "(O fatorial de um número é o produto de todos os números inteiros positivos de 1 até o próprio número.)"
      ],
      "metadata": {
        "id": "9WPRqUfIgLQK"
      }
    },
    {
      "cell_type": "code",
      "source": [
        "def calcular_fatorial(numero):\n",
        "    if numero == 0 or numero == 1:\n",
        "        return 1\n",
        "    else:\n",
        "        fatorial = 1\n",
        "        for i in range(2, numero + 1):\n",
        "            fatorial *= i\n",
        "        return fatorial\n",
        "\n",
        "def main():\n",
        "    numero = int(input(\"Digite um número inteiro positivo: \"))\n",
        "\n",
        "    if numero < 0:\n",
        "        print(\"Erro: O número deve ser positivo.\")\n",
        "    else:\n",
        "        resultado = calcular_fatorial(numero)\n",
        "        print(\"O fatorial de\", numero, \"é\", resultado)\n",
        "\n",
        "if __name__ == \"__main__\":\n",
        "    main()\n"
      ],
      "metadata": {
        "id": "B3VE36bRgJWu",
        "colab": {
          "base_uri": "https://localhost:8080/"
        },
        "outputId": "389d715d-1b95-466a-99c2-705e89dff7f4"
      },
      "execution_count": 5,
      "outputs": [
        {
          "output_type": "stream",
          "name": "stdout",
          "text": [
            "Digite um número inteiro positivo: 5\n",
            "O fatorial de 5 é 120\n"
          ]
        }
      ]
    },
    {
      "cell_type": "markdown",
      "source": [
        "DESAFIO 5\n",
        "\n",
        "Crie um programa que permita ao usuário gerenciar suas tarefas diárias. O programa deve oferecer as seguintes funcionalidades:\n",
        "\n",
        "*   Adicionar uma nova tarefa;\n",
        "*   Visualizar todas as tarefas;\n",
        "*   Marcar uma tarefa como concluída;\n",
        "*   Remover uma tarefa;\n",
        "*   Sair do programa.\n",
        "\n",
        "(Você pode implementar essas funcionalidades usando listas para armazenar as tarefas e estruturas de controle como loops e condicionais para interagir com o usuário.)"
      ],
      "metadata": {
        "id": "dLmeFEi2fO9f"
      }
    },
    {
      "cell_type": "code",
      "source": [
        "def adicionar_tarefa(tarefas, nova_tarefa):\n",
        "    tarefas.append(nova_tarefa)\n",
        "    print(\"Tarefa adicionada com sucesso!\")\n",
        "\n",
        "def visualizar_tarefas(tarefas):\n",
        "    if not tarefas:\n",
        "        print(\"Não há tarefas para visualizar.\")\n",
        "    else:\n",
        "        print(\"Lista de tarefas:\")\n",
        "        for i, tarefa in enumerate(tarefas, start=1):\n",
        "            print(f\"{i}. {tarefa}\")\n",
        "\n",
        "def marcar_concluida(tarefas, numero_tarefa):\n",
        "    if numero_tarefa <= 0 or numero_tarefa > len(tarefas):\n",
        "        print(\"Número de tarefa inválido.\")\n",
        "    else:\n",
        "        tarefas[numero_tarefa - 1] += \" (concluída)\"\n",
        "        print(\"Tarefa marcada como concluída!\")\n",
        "\n",
        "def remover_tarefa(tarefas, numero_tarefa):\n",
        "    if numero_tarefa <= 0 or numero_tarefa > len(tarefas):\n",
        "        print(\"Número de tarefa inválido.\")\n",
        "    else:\n",
        "        del tarefas[numero_tarefa - 1]\n",
        "        print(\"Tarefa removida com sucesso!\")\n",
        "\n",
        "def main():\n",
        "    tarefas = []\n",
        "\n",
        "    while True:\n",
        "        print(\"\\n### Gerenciador de Tarefas ###\")\n",
        "        print(\"1. Adicionar uma nova tarefa\")\n",
        "        print(\"2. Visualizar todas as tarefas\")\n",
        "        print(\"3. Marcar uma tarefa como concluída\")\n",
        "        print(\"4. Remover uma tarefa\")\n",
        "        print(\"5. Sair do programa\")\n",
        "\n",
        "        escolha = input(\"Escolha uma opção: \")\n",
        "\n",
        "        if escolha == \"1\":\n",
        "            nova_tarefa = input(\"Digite a nova tarefa: \")\n",
        "            adicionar_tarefa(tarefas, nova_tarefa)\n",
        "        elif escolha == \"2\":\n",
        "            visualizar_tarefas(tarefas)\n",
        "        elif escolha == \"3\":\n",
        "            visualizar_tarefas(tarefas)\n",
        "            numero_tarefa = int(input(\"Digite o número da tarefa a ser marcada como concluída: \"))\n",
        "            marcar_concluida(tarefas, numero_tarefa)\n",
        "        elif escolha == \"4\":\n",
        "            visualizar_tarefas(tarefas)\n",
        "            numero_tarefa = int(input(\"Digite o número da tarefa a ser removida: \"))\n",
        "            remover_tarefa(tarefas, numero_tarefa)\n",
        "        elif escolha == \"5\":\n",
        "            print(\"Saindo do programa...\")\n",
        "            break\n",
        "        else:\n",
        "            print(\"Opção inválida. Tente novamente.\")\n",
        "\n",
        "if __name__ == \"__main__\":\n",
        "    main()\n"
      ],
      "metadata": {
        "id": "8oExqSgagGzn",
        "colab": {
          "base_uri": "https://localhost:8080/"
        },
        "outputId": "1208296b-b106-4c23-f91c-b2f3478d159b"
      },
      "execution_count": 7,
      "outputs": [
        {
          "output_type": "stream",
          "name": "stdout",
          "text": [
            "\n",
            "### Gerenciador de Tarefas ###\n",
            "1. Adicionar uma nova tarefa\n",
            "2. Visualizar todas as tarefas\n",
            "3. Marcar uma tarefa como concluída\n",
            "4. Remover uma tarefa\n",
            "5. Sair do programa\n",
            "Escolha uma opção: 1\n",
            "Digite a nova tarefa: Fazer lição\n",
            "Tarefa adicionada com sucesso!\n",
            "\n",
            "### Gerenciador de Tarefas ###\n",
            "1. Adicionar uma nova tarefa\n",
            "2. Visualizar todas as tarefas\n",
            "3. Marcar uma tarefa como concluída\n",
            "4. Remover uma tarefa\n",
            "5. Sair do programa\n",
            "Escolha uma opção: 2\n",
            "Lista de tarefas:\n",
            "1. Fazer lição\n",
            "\n",
            "### Gerenciador de Tarefas ###\n",
            "1. Adicionar uma nova tarefa\n",
            "2. Visualizar todas as tarefas\n",
            "3. Marcar uma tarefa como concluída\n",
            "4. Remover uma tarefa\n",
            "5. Sair do programa\n",
            "Escolha uma opção: 5\n",
            "Saindo do programa...\n"
          ]
        }
      ]
    }
  ]
}